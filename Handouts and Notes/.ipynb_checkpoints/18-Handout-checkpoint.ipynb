{
 "cells": [
  {
   "cell_type": "markdown",
   "metadata": {},
   "source": [
    "# Session 18: Mixed Integer Programming (MIP)\n",
    "\n",
    "## 1. Geometry of Linear Programming \n",
    "\n",
    "**Example 1:** Solve the following LP graphically without the use of a computer.\n",
    "\n",
    "$$\\begin{aligned} & \\text{Maximize} & 2X+Y \\\\\n",
    "& \\text{subject to:} \\\\\n",
    "& \\text{(Material 1)} & X+2Y & \\le 6 \\\\\n",
    "& \\text{(Material 2)} & 3Y & \\le 6 \\\\\n",
    "& \\text{(Non-negativity)} & X, Y & \\ge 0\n",
    "\\end{aligned}$$\n",
    "\n",
    "**Q1:** Solve the following LP graphically (find optimal solution and objective value). Which constraints are binding at the optimal solution? For each constraint, determine the sign of the its shadow price. (The sign means whether it is positive, negative, or zero.) \n",
    "\n",
    "$$\\begin{aligned}\n",
    "\\text{Maximize} && 10X+20Y \\\\\n",
    "\\text{subject to:} \\\\\n",
    "\\text{(Material 1)} && 4X+Y & \\le 60 \\\\\n",
    "\\text{(Material 2)} && 2Y & \\le 48 \\\\\n",
    "\\text{(Labor)} && X+Y & \\le 30 \\\\\n",
    "\\text{(Non-negativity)}&& X,Y & \\ge 0 \\\\\n",
    "\\end{aligned}$$\n",
    "\n",
    "**Q2:** How does the optimal solution changes if both $X$ and $Y$ have to be integer multiples of $10$?"
   ]
  },
  {
   "cell_type": "markdown",
   "metadata": {},
   "source": [
    "## 2. Introduction to MIPs\n",
    "\n",
    "**Example 2:** Suppose that in the production planning example of Q1, we have the following additional constraint: using any material 2 at all requires a set up cost of 90. If we pay this cost, then we have 48 units of material 2 at our disposal, otherwise we have no material 2. What is the optimal profit and corresponding production plan?\n",
    "\n",
    "**Decision Variables:**\n",
    "\n",
    "\n",
    "**Objective and Constraints:**\n"
   ]
  },
  {
   "cell_type": "code",
   "execution_count": 12,
   "metadata": {},
   "outputs": [
    {
     "name": "stdout",
     "output_type": "stream",
     "text": [
      "Optimize a model with 3 rows, 3 columns and 6 nonzeros\n",
      "Variable types: 0 continuous, 3 integer (1 binary)\n",
      "Coefficient statistics:\n",
      "  Matrix range     [1e+00, 5e+01]\n",
      "  Objective range  [1e+01, 9e+01]\n",
      "  Bounds range     [1e+00, 1e+00]\n",
      "  RHS range        [3e+01, 6e+01]\n",
      "Found heuristic solution: objective 150.0000000\n",
      "Presolve time: 0.00s\n",
      "Presolved: 3 rows, 3 columns, 6 nonzeros\n",
      "Variable types: 0 continuous, 3 integer (1 binary)\n",
      "\n",
      "Root relaxation: objective 4.500000e+02, 2 iterations, 0.00 seconds\n",
      "\n",
      "    Nodes    |    Current Node    |     Objective Bounds      |     Work\n",
      " Expl Unexpl |  Obj  Depth IntInf | Incumbent    BestBd   Gap | It/Node Time\n",
      "\n",
      "*    0     0               0     450.0000000  450.00000  0.00%     -    0s\n",
      "\n",
      "Explored 0 nodes (2 simplex iterations) in 0.04 seconds\n",
      "Thread count was 8 (of 8 available processors)\n",
      "\n",
      "Solution count 2: 450 150 \n",
      "\n",
      "Optimal solution found (tolerance 1.00e-04)\n",
      "Best objective 4.500000000000e+02, best bound 4.500000000000e+02, gap 0.0000%\n"
     ]
    }
   ],
   "source": [
    "from gurobipy import Model, GRB\n",
    "mod = Model()\n",
    "z = mod.addVar(vtype = GRB.BINARY)\n",
    "x = mod.addVar(vtype = GRB.INTEGER)\n",
    "y = mod.addVar(vtype = GRB.INTEGER)\n",
    "\n",
    "mod.setObjective(10*x+20*y-90*z,sense=GRB.MAXIMIZE)\n",
    "\n",
    "mod.addConstr(4*x+y<=60)\n",
    "mod.addConstr(2*y <= 48*z)\n",
    "mod.addConstr(x + y <= 30)\n",
    "\n",
    "mod.optimize()"
   ]
  },
  {
   "cell_type": "code",
   "execution_count": 13,
   "metadata": {},
   "outputs": [
    {
     "name": "stdout",
     "output_type": "stream",
     "text": [
      "450.0\n",
      "6.0\n",
      "24.0\n",
      "1.0\n"
     ]
    }
   ],
   "source": [
    "print(mod.objval)\n",
    "print(x.x)\n",
    "print(y.x)\n",
    "print(z.x)"
   ]
  },
  {
   "cell_type": "markdown",
   "metadata": {},
   "source": [
    "**Q3:** Consider the LP as in Q1 but now $X$ and $Y$ have to be integer multiples of 10. Formulate this as a MIP and solve it using Gurobi."
   ]
  },
  {
   "cell_type": "code",
   "execution_count": 18,
   "metadata": {},
   "outputs": [
    {
     "name": "stdout",
     "output_type": "stream",
     "text": [
      "Optimize a model with 3 rows, 3 columns and 6 nonzeros\n",
      "Variable types: 0 continuous, 3 integer (1 binary)\n",
      "Coefficient statistics:\n",
      "  Matrix range     [1e+01, 5e+01]\n",
      "  Objective range  [9e+01, 2e+02]\n",
      "  Bounds range     [1e+00, 1e+00]\n",
      "  RHS range        [3e+01, 6e+01]\n",
      "Found heuristic solution: objective 100.0000000\n",
      "Presolve removed 3 rows and 3 columns\n",
      "Presolve time: 0.00s\n",
      "Presolve: All rows and columns removed\n",
      "\n",
      "Explored 0 nodes (0 simplex iterations) in 0.02 seconds\n",
      "Thread count was 1 (of 8 available processors)\n",
      "\n",
      "Solution count 2: 410 100 \n",
      "\n",
      "Optimal solution found (tolerance 1.00e-04)\n",
      "Best objective 4.100000000000e+02, best bound 4.100000000000e+02, gap 0.0000%\n"
     ]
    }
   ],
   "source": [
    "from gurobipy import Model, GRB\n",
    "mod = Model()\n",
    "z = mod.addVar(vtype = GRB.BINARY)\n",
    "x_1 = mod.addVar(vtype = GRB.INTEGER)\n",
    "x_2 = mod.addVar(vtype = GRB.INTEGER)\n",
    "\n",
    "x = 10 * x_1\n",
    "y = 10 * x_2\n",
    "\n",
    "mod.setObjective(10*x+20*y-90*z,sense=GRB.MAXIMIZE)\n",
    "\n",
    "mod.addConstr(4*x+y <= 60)\n",
    "mod.addConstr(2*y <= 48*z)\n",
    "mod.addConstr(x+y <= 30)\n",
    "\n",
    "mod.optimize()"
   ]
  },
  {
   "cell_type": "code",
   "execution_count": 20,
   "metadata": {},
   "outputs": [
    {
     "name": "stdout",
     "output_type": "stream",
     "text": [
      "410.0\n",
      "1.0\n",
      "2.0\n",
      "1.0\n"
     ]
    }
   ],
   "source": [
    "print(mod.objval)\n",
    "print(x_1.x)\n",
    "print(x_2.x)\n",
    "print(z.x)"
   ]
  },
  {
   "cell_type": "code",
   "execution_count": 3,
   "metadata": {},
   "outputs": [
    {
     "name": "stdout",
     "output_type": "stream",
     "text": [
      "Optimal objective: 400.0\n",
      "\tX: 10.0\n",
      "\tY: 20.0\n"
     ]
    }
   ],
   "source": []
  },
  {
   "cell_type": "markdown",
   "metadata": {},
   "source": [
    "**Q4:** Consider the production planning problem from Q1 with the following modifications:\n",
    "\n",
    "- All production quantities must be integers. \n",
    "- You have the additional ability to purchase more units of Material 1 at a cost of 3 per unit. However, you can only purchase them in batches of 9 units. \n",
    "- Producing any positive amounts of $X$ would incur a fixed cost of 100.\n",
    "- The number of units produced for $Y$ is either zero or at least 5.\n",
    "\n",
    "What is the optimal profit and how is it be achieved?"
   ]
  },
  {
   "cell_type": "code",
   "execution_count": 21,
   "metadata": {},
   "outputs": [
    {
     "name": "stdout",
     "output_type": "stream",
     "text": [
      "Optimize a model with 6 rows, 5 columns and 12 nonzeros\n",
      "Variable types: 0 continuous, 5 integer (2 binary)\n",
      "Coefficient statistics:\n",
      "  Matrix range     [1e+00, 1e+03]\n",
      "  Objective range  [1e+01, 1e+02]\n",
      "  Bounds range     [1e+00, 1e+00]\n",
      "  RHS range        [3e+01, 6e+01]\n",
      "Found heuristic solution: objective -0.0000000\n",
      "Found heuristic solution: objective 11.0000000\n",
      "Presolve removed 1 rows and 0 columns\n",
      "Presolve time: 0.00s\n",
      "Presolved: 5 rows, 5 columns, 11 nonzeros\n",
      "Variable types: 0 continuous, 5 integer (2 binary)\n",
      "\n",
      "Root relaxation: objective 5.200000e+02, 4 iterations, 0.00 seconds\n",
      "\n",
      "    Nodes    |    Current Node    |     Objective Bounds      |     Work\n",
      " Expl Unexpl |  Obj  Depth IntInf | Incumbent    BestBd   Gap | It/Node Time\n",
      "\n",
      "     0     0  520.00000    0    1   11.00000  520.00000  4627%     -    0s\n",
      "H    0     0                     480.0000000  520.00000  8.33%     -    0s\n",
      "     0     0     cutoff    0       480.00000  480.00000  0.00%     -    0s\n",
      "     0     0     cutoff    0       480.00000  480.00000  0.00%     -    0s\n",
      "\n",
      "Explored 1 nodes (4 simplex iterations) in 0.04 seconds\n",
      "Thread count was 8 (of 8 available processors)\n",
      "\n",
      "Solution count 3: 480 11 -0 \n",
      "\n",
      "Optimal solution found (tolerance 1.00e-04)\n",
      "Best objective 4.800000000000e+02, best bound 4.800000000000e+02, gap 0.0000%\n"
     ]
    }
   ],
   "source": [
    "from gurobipy import Model, GRB\n",
    "mod = Model()\n",
    "\n",
    "x = mod.addVar(vtype = GRB.INTEGER)\n",
    "y = mod.addVar(vtype = GRB.INTEGER)\n",
    "z_1 = mod.addVar(vtype = GRB.BINARY)\n",
    "z_2 = mod.addVar(vtype = GRB.BINARY)\n",
    "n = mod.addVar(vtype = GRB.INTEGER)\n",
    "\n",
    "mod.setObjective(10*x+20*y-27*n-100*z_1, sense=GRB.MAXIMIZE)\n",
    "\n",
    "mod.addConstr(4*x+y <= 60 + 9*n)\n",
    "mod.addConstr(2*y <= 48)\n",
    "mod.addConstr(x+y <= 30)\n",
    "mod.addConstr(x <= 1000*z_1)\n",
    "mod.addConstr(5*z_2 <= y)\n",
    "mod.addConstr(y <= 1001*z_2)\n",
    "\n",
    "mod.optimize()"
   ]
  },
  {
   "cell_type": "code",
   "execution_count": 25,
   "metadata": {},
   "outputs": [
    {
     "name": "stdout",
     "output_type": "stream",
     "text": [
      "480.0\n",
      "0.0\n",
      "24.0\n",
      "0.0\n",
      "1.0\n",
      "-0.0\n"
     ]
    }
   ],
   "source": [
    "print(mod.objval)\n",
    "print(x.x)\n",
    "print(y.x)\n",
    "print(z_1.x)\n",
    "print(z_2.x)\n",
    "print(n.x)"
   ]
  },
  {
   "cell_type": "code",
   "execution_count": 4,
   "metadata": {},
   "outputs": [
    {
     "name": "stdout",
     "output_type": "stream",
     "text": [
      "Optimal objective: 315.0\n",
      "\tX: 25.0\n",
      "\tY: 5.0\n"
     ]
    }
   ],
   "source": []
  }
 ],
 "metadata": {
  "kernelspec": {
   "display_name": "Python 3",
   "language": "python",
   "name": "python3"
  },
  "language_info": {
   "codemirror_mode": {
    "name": "ipython",
    "version": 2
   },
   "file_extension": ".py",
   "mimetype": "text/x-python",
   "name": "python",
   "nbconvert_exporter": "python",
   "pygments_lexer": "ipython2",
   "version": "2.7.15"
  }
 },
 "nbformat": 4,
 "nbformat_minor": 2
}
